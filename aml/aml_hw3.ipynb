{
  "nbformat": 4,
  "nbformat_minor": 0,
  "metadata": {
    "colab": {
      "name": "aml_hw3.ipynb",
      "provenance": [],
      "collapsed_sections": []
    },
    "kernelspec": {
      "name": "python3",
      "display_name": "Python 3"
    },
    "language_info": {
      "name": "python"
    }
  },
  "cells": [
    {
      "cell_type": "code",
      "execution_count": 1,
      "metadata": {
        "id": "Kno3V-uZ16dz"
      },
      "outputs": [],
      "source": [
        "from google.colab import drive\n",
        "import pandas as pd\n",
        "import zipfile\n",
        "import string\n",
        "from nltk import ngrams\n",
        "import random\n",
        "from collections import Counter\n",
        "import numpy as np"
      ]
    },
    {
      "cell_type": "code",
      "source": [
        "drive.mount('/content/drive')"
      ],
      "metadata": {
        "colab": {
          "base_uri": "https://localhost:8080/"
        },
        "id": "DGUQ_TRe2pyD",
        "outputId": "fc376a38-5bf8-4def-81f5-46e81036c613"
      },
      "execution_count": 2,
      "outputs": [
        {
          "output_type": "stream",
          "name": "stdout",
          "text": [
            "Mounted at /content/drive\n"
          ]
        }
      ]
    },
    {
      "cell_type": "code",
      "source": [
        "with zipfile.ZipFile(\"/content/drive/My Drive/MADE/corpora.zip\", \"r\") as zip_ref:\n",
        "  zip_ref.extractall()"
      ],
      "metadata": {
        "id": "m2eD8N8b2sxA"
      },
      "execution_count": 3,
      "outputs": []
    },
    {
      "cell_type": "code",
      "source": [
        "with open('WarAndPeace.txt', 'r') as f:\n",
        "  text = f.read()"
      ],
      "metadata": {
        "id": "Op5fC3sf2_D-"
      },
      "execution_count": 50,
      "outputs": []
    },
    {
      "cell_type": "code",
      "source": [
        "def text_preprocessing(text):\n",
        "  text = text.lower()\n",
        "  dictionary = \"абвгдеёжзийклмнопрстуфхцчшщьыъэюя \"\n",
        "  text = ''.join([c for c in text if c in dictionary])\n",
        "  text = ' '.join(text.split())\n",
        "  return text\n",
        "\n",
        "def frequency_count(text, n_gram=1):\n",
        "  # text = [''.join(ngram) for ngram in ngrams(text, n_gram)][::n_gram]\n",
        "  # freq = {k: v / len(text) for k, v in sorted(Counter(text).items(), key=lambda x: -x[1])}\n",
        "  # return freq\n",
        "  if n_gram > 1:\n",
        "    text = [\"\".join(ngram) for ngram in ngrams(text, n=n_gram)]\n",
        "  freqs = {\n",
        "        k: v / len(text)\n",
        "        for k, v in sorted(Counter(text).items(), key=lambda item: item[1], reverse=True)\n",
        "        if v > 0\n",
        "  }\n",
        "  return freqs\n",
        "\n",
        "def encode_mapping(freq):\n",
        "  original_ngrams = list(freq.keys())\n",
        "  permutated_ngrams = np.random.permutation(original_ngrams)\n",
        "  mapping = dict(zip(original_ngrams, permutated_ngrams))\n",
        "  return mapping\n",
        "\n",
        "def decode_mapping(original_text_freq, encoded_text_freq):\n",
        "  mapping = dict(zip(encoded_text_freq.keys(), original_text_freq.keys()))\n",
        "  return mapping\n",
        "\n",
        "def apply_mapping(text, mapping, n_gram=1):\n",
        "  return \"\".join([mapping.get(c, '#') for c in text])\n",
        "\n",
        "def char_accuracy(text, decoded_text):\n",
        "  return sum((char1 == char2) for char1, char2 in zip(text, decoded_text)) / len(text)"
      ],
      "metadata": {
        "id": "SETzkTmj1csM"
      },
      "execution_count": 51,
      "outputs": []
    },
    {
      "cell_type": "markdown",
      "source": [
        "### Задание 1"
      ],
      "metadata": {
        "id": "YwdC_73uzdkD"
      }
    },
    {
      "cell_type": "code",
      "source": [
        "def get_random_text(text, size):\n",
        "  idx = np.random.randint(len(text) - size)\n",
        "  return text[idx: idx + size]"
      ],
      "metadata": {
        "id": "3IJwG74T6x9n"
      },
      "execution_count": 52,
      "outputs": []
    },
    {
      "cell_type": "code",
      "source": [
        "text = text_preprocessing(text)\n",
        "text_freq = frequency_count(text, 1)\n",
        "encode_map = encode_mapping(text_freq)\n",
        "test_text = get_random_text(text, 2000)\n",
        "encoded_test_text = apply_mapping(test_text, encode_map)\n",
        "print(test_text, encoded_test_text, sep='\\n')"
      ],
      "metadata": {
        "colab": {
          "base_uri": "https://localhost:8080/"
        },
        "id": "9oT3SduhQpIq",
        "outputId": "299a572b-38db-4289-8f01-43940497de5e"
      },
      "execution_count": 53,
      "outputs": [
        {
          "output_type": "stream",
          "name": "stdout",
          "text": [
            "е мог остановиться перед жизнью одного человека не хотите ли перейти к тому столу сказала анна павловнано пьер не отвечая продолжал свою речь нет говорил он все более и более одушевляясь наполеон велик потому что он стал выше революции подавил ее злоупотребления удержав всё хорошее и равенство граждан и свободу слова и печати и только потому приобрел власть да ежели бы он взяв власть не пользуясь ею для убийства отдал бы ее законному королю сказал виконт тогда бы я назвал его великим человеком он бы не мог этого сделать народ отдал ему власть только затем чтоб он избавил его от бурбонов и потому что народ видел в нем великого человека революция была великое дело продолжал мсье пьер выказывая этим отчаянным и вызывающим вводным предложением свою великую молодость и желание всё полнее высказать революция и цареубийство великое делопосле этого да не хотите ли перейти к тому столу повторила анна павловна общественный договор с кроткой улыбкой сказал виконт я не говорю про цареубийство я говорю про идеи да идеи грабежа убийства и цареубийства опять перебил иронический голос это были крайности разумеется но не в них всё значение а значение в правах человека в эманципации от предрассудков в равенстве граждан и все эти идеи наполеон удержал во всей их силе свобода и равенство презрительно сказал виконт как будто решившийся наконец серьезно доказать этому юноше всю глупость его речей всё громкие слова которые уже давно компрометировались кто же не любит свободы и равенства еще спаситель наш проповедывал свободу и равенство разве после революции люди стали счастливее напротив ы хотели свободы а бонапарте уничтожил еекнязь андрей с улыбкой посматривал то на пьера то на виконта то на хозяйку в первую минуту выходки пьера анна павловна ужаснулась несмотря на свою привычку к свету но когда она увидела что несмотря на произнесенные пьером святотатственные речи виконт не выходил из себя и когда она убедилась что замять этих речей уже нельзя она собралась с силами и присоединившись \n",
            "спвоёпозджкоъьдузмпгснсшпйьщкуцпошкоёопислоъс жпкспяодьдспльпгснседьп пдовхпздолхпз жщжлжпжккжпгжълоъкжкопгуснпксподъсижмпгношолйжлпзъоцпнсиупксдпёоъоньлпокпъзспфолсспьпфолсспошхбсълммзупкжголсокпъсль пгодовхпидопокпзджлпътбспнсъолцаььпгошжъьлпсспщлохгоднсфлскьмпхшснйжъпъзчпяонобсспьпнжъскздъопёнжйшжкпьпзъофошхпзлоъжпьпгсиждьпьпдолу опгодовхпгньофнслпължздупшжпсйсльпфтпокпъщмъпължздупкспголущхмзупсцпшлмпхфьездъжподшжлпфтпсспщж окковхп онолцпз жщжлпъь окдпдоёшжпфтпмпкжщъжлпсёопъсль ьвпислоъс овпокпфтпкспвоёпюдоёопзшслждупкжношподшжлпсвхпължздупдолу опщждсвпидофпокпьщфжъьлпсёоподпфхнфокоъпьпгодовхпидопкжношпъьшслпъпксвпъсль оёопислоъс жпнсъолцаьмпфтлжпъсль оспшслопгношолйжлпвзуспгуснпът жщтъжмпюдьвподижмкктвпьпътщтъжцрьвпъъошктвпгнсшлойскьсвпзъоцпъсль хцпволошоздупьпйслжкьспъзчпголксспътз жщждупнсъолцаьмпьпажнсхфьездъопъсль оспшслогозлспюдоёопшжпкспяодьдспльпгснседьп пдовхпздолхпгоъдоньлжпжккжпгжълоъкжпофрсздъскктепшоёоъонпзп нод оепхлтф оепз жщжлпъь окдпмпкспёоъонцпгнопажнсхфьездъопмпёоъонцпгнопьшсьпшжпьшсьпёнжфсйжпхфьездъжпьпажнсхфьездъжпогмдупгснсфьлпьнокьисз ьепёолозпюдопфтльп нжекоздьпнжщхвссдзмпкопкспъпкьяпъзчпщкжискьспжпщкжискьспъпгнжъжяпислоъс жпъпювжкаьгжаььподпгнсшнжззхш оъпъпнжъскздъспёнжйшжкпьпъзспюдьпьшсьпкжголсокпхшснйжлпъопъзсепьяпзьлспзъофошжпьпнжъскздъопгнсщньдслукопз жщжлпъь окдп ж пфхшдопнсбьъбьезмпкж оксапзснусщкопшо жщждупюдовхпцкобспъзцпёлхгоздупсёопнсисепъзчпёнов ьспзлоъжп одонтспхйспшжъкоп овгновсдьноъжльзуп допйспксплцфьдпзъофоштпьпнжъскздъжпсрспзгжзьдслупкжбпгногоъсштъжлпзъофошхпьпнжъскздъопнжщъспгозлспнсъолцаььплцшьпзджльпзижздльъсспкжгнодьъптпяодсльпзъофоштпжпфокжгжндспхкьидойьлпсс кмщупжкшнсепзпхлтф оепгозвждньъжлпдопкжпгуснжпдопкжпъь окджпдопкжпяощме хпъпгснъхцпвькхдхпътяош ьпгуснжпжккжпгжълоъкжпхйжзкхлжзупксзводнмпкжпзъоцпгньъти хп пзъсдхпкоп оёшжпокжпхъьшслжпидопксзводнмпкжпгноьщксзскктспгусновпзъмдодждздъскктспнсиьпъь окдпкспътяошьлпьщпзсфмпьп оёшжпокжпхфсшьлжзупидопщжвмдупюдьяпнсисепхйспкслущмпокжпзофнжлжзупзпзьлжвьпьпгньзосшькьъбьзуп\n"
          ]
        }
      ]
    },
    {
      "cell_type": "code",
      "source": [
        "encoded_test_text_freq = frequency_count(encoded_test_text, 1)\n",
        "decode_map = decode_mapping(text_freq, encoded_test_text_freq)\n",
        "decoded_test_text = apply_mapping(encoded_test_text, decode_map)\n",
        "decoded_test_text"
      ],
      "metadata": {
        "colab": {
          "base_uri": "https://localhost:8080/",
          "height": 122
        },
        "id": "p4IbTj5SYIBE",
        "outputId": "33252149-7b07-408e-9bba-71f39f6f3af2"
      },
      "execution_count": 54,
      "outputs": [
        {
          "output_type": "execute_result",
          "data": {
            "text/plain": [
              "'а гоб овсетонисявз марак шиьтяй октобо чалонаде та хосиса ли маражси д согу всолу вдеьеле етте менлонтето мяар та осначез мроколшел вной рачя тас бонорил от нва полаа и полаа окуцанлззвя темолаот налид мосогу чсо от всел ныца ранолйюии мокенил аа ьлоумосраплатиз укаршен нвщ хороцаа и ренатвсно брешкет и внопоку влоне и мачеси и солядо мосогу мриопрал нлевся ке ашали пы от ньзн нлевся та моляьузвя ай клз упижвсне оскел пы аа ьедоттогу доролй вдеьел нидотс собке пы з теьнел або налидиг чалонадог от пы та гоб эсобо вкалеся терок оскел агу нлевся солядо ьесаг чсоп от иьпенил або ос пурпотон и мосогу чсо терок никал н таг налидобо чалонаде ранолйюиз пыле налидоа кало мроколшел гвяа мяар ныдеьынез эсиг осчезттыг и ныьынейфиг нноктыг мраклошатиаг вной налидуй голоковся и шалетиа нвщ молтаа нывдеьеся ранолйюиз и юераупижвсно налидоа каломовла эсобо ке та хосиса ли маражси д согу всолу монсориле етте менлонте опфавснаттыж кобонор в дросдож улыпдож вдеьел нидотс з та бонорй мро юераупижвсно з бонорй мро икаи ке икаи брепаше упижвсне и юераупижвсне омзся марапил иротичавдиж болов эсо пыли дрежтовси реьугаасвз то та н тих нвщ ьтечатиа е ьтечатиа н мренех чалонаде н эгетюимеюии ос мракреввукдон н ренатвсна брешкет и нва эси икаи темолаот укаршел но нваж их вила внопоке и ренатвсно мраьрисалято вдеьел нидотс дед пуксо рацинцижвз тедотаю варяаьто кодеьеся эсогу йтоца нвй блумовся або рачаж нвщ брогдиа влоне досорыа уша кенто догмрогасиронеливя дсо ша та лйпис внопокы и ренатвсне афа вмевисаля тец мромонакынел внопоку и ренатвсно реьна мовла ранолйюии лйки всели вчевслинаа темросин ы хосали внопокы е потемерса утичсошил аадтзья еткраж в улыпдож мовгесринел со те мяаре со те нидотсе со те хоьзжду н марнуй гитусу ныхокди мяаре етте менлонте ушевтулевя тавгосрз те вной мринычду д внасу то добке оте уникале чсо тавгосрз те мроиьтаваттыа мяарог внзсосесвснаттыа рачи нидотс та ныхокил иь вапз и добке оте упакилевя чсо ьегзся эсих рачаж уша таляьз оте вопрелевя в вилеги и мривоакитинцивя '"
            ],
            "application/vnd.google.colaboratory.intrinsic+json": {
              "type": "string"
            }
          },
          "metadata": {},
          "execution_count": 54
        }
      ]
    },
    {
      "cell_type": "code",
      "source": [
        "char_accuracy(test_text, decoded_test_text)"
      ],
      "metadata": {
        "colab": {
          "base_uri": "https://localhost:8080/"
        },
        "id": "5itKwGnWZiLY",
        "outputId": "99567c83-1f9e-4783-b340-c457bd553c34"
      },
      "execution_count": 55,
      "outputs": [
        {
          "output_type": "execute_result",
          "data": {
            "text/plain": [
              "0.4535"
            ]
          },
          "metadata": {},
          "execution_count": 55
        }
      ]
    },
    {
      "cell_type": "markdown",
      "source": [
        "### Задание 2"
      ],
      "metadata": {
        "id": "Jrm4iN7qzY4I"
      }
    },
    {
      "cell_type": "code",
      "source": [
        "text_freq = frequency_count(text, 2)\n",
        "encoded_test_text_freq = frequency_count(encoded_test_text, 2)\n",
        "#encode_map = encode_mapping(text_freq)\n",
        "#encoded_test_text = apply_mapping(test_text, encode_map, n_gram=1)\n",
        "#encoded_test_text"
      ],
      "metadata": {
        "id": "dAF1rfeKZosE"
      },
      "execution_count": 56,
      "outputs": []
    },
    {
      "cell_type": "code",
      "source": [
        "def create_decode_mapping_ngram(corpus_freqs, encoded_text_freqs, n_gram=2):\n",
        "    decode_mapping = {}\n",
        "    for encoded, corpus in zip(encoded_text_freqs.keys(), corpus_freqs.keys()):\n",
        "        for j in range(n_gram):\n",
        "            if encoded[j] not in decode_mapping.keys():\n",
        "                if corpus[j] not in decode_mapping.values():\n",
        "                    decode_mapping[encoded[j]] = corpus[j]\n",
        "    return decode_mapping"
      ],
      "metadata": {
        "id": "WptH0aNu42V9"
      },
      "execution_count": 57,
      "outputs": []
    },
    {
      "cell_type": "code",
      "source": [
        "decode_mapping_ngrams = create_decode_mapping_ngram(text_freq, encoded_test_text_freq)\n",
        "decoded_test_text = apply_mapping(encoded_test_text, decode_mapping_ngrams, n_gram=1)\n",
        "decoded_test_text"
      ],
      "metadata": {
        "colab": {
          "base_uri": "https://localhost:8080/",
          "height": 122
        },
        "id": "8fnsemtud_mZ",
        "outputId": "76eb7b6b-bf54-4c38-9ed0-e94dd0f09c7e"
      },
      "execution_count": 58,
      "outputs": [
        {
          "output_type": "execute_result",
          "data": {
            "text/plain": [
              "'о жпч пвтинплетрвк сойоб хеьнр# пбнпчп шоаплоги но дптето ае сойоуте г тпжм втпам вгиьиаи инни силаплнинп срой но птлошик сйпбпахиа влп# йошр нот чплпйеа пн лво зпаоо е зпаоо пбмыолакквр ниспаопн лоаег сптпжм штп пн втиа ляыо йолпа##ее спбилеа оо ьапмсптйозаонек мбойхил лв# дпйпыоо е йилонвтлп чйихбин е влпзпбм вапли е сошите е тпаргп сптпжм сйепзйоа лаивтр би охоае зя пн лькл лаивтр но спарьмквр о# бак мзеувтли птбиа зя оо ьигпннпжм гпйпа# вгиьиа легпнт тпчби зя к ниьлиа очп лоаегеж шоаплогпж пн зя но жпч #тпчп вбоаитр нийпб птбиа ожм лаивтр тпаргп ьитож штпз пн еьзилеа очп пт змйзпнпл е сптпжм штп нийпб лебоа л нож лоаегпчп шоаплоги йолпа##ек зяаи лоаегпо боап сйпбпахиа жвро срой лягиьялик #теж птшикнняж е ляьяли#юеж ллпбняж сйобапхонеож влп# лоаегм# жпапбпвтр е хоаинео лв# спаноо лявгиьитр йолпа##ек е #ийомзеувтлп лоаегпо боапспвао #тпчп би но дптето ае сойоуте г тпжм втпам сплтпйеаи инни силаплни пзюовтлонняу бпчплпй в гйптгпу маязгпу вгиьиа легпнт к но чплпй# сйп #ийомзеувтлп к чплпй# сйп ебое би ебое чйизохи мзеувтли е #ийомзеувтли псктр сойозеа ейпнешовгеу чпапв #тп зяае гйиунпвте йиьмжоотвк нп но л нед лв# ьнишонео и ьнишонео л сйилид шоаплоги л #жин#еси#ее пт сйобйиввмбгпл л йилонвтло чйихбин е лво #те ебое ниспаопн мбойхиа лп лвоу ед веао влпзпби е йилонвтлп сйоьйетоарнп вгиьиа легпнт гиг змбтп йоыелыеувк нигпно# войроьнп бпгиьитр #тпжм #нпыо лв# чамспвтр очп йошоу лв# чйпжгео вапли гптпйяо мхо билнп гпжсйпжотейплиаевр гтп хо но а#зет влпзпбя е йилонвтли оюо всиветоар ниы сйпсплобялиа влпзпбм е йилонвтлп йиьло спвао йолпа##ее а#бе втиае вшивтаелоо нисйптел я дптоае влпзпбя и зпнисийто мнештпхеа оогнкьр инбйоу в маязгпу спвжитйелиа тп ни сройи тп ни легпнти тп ни дпькугм л сойлм# женмтм лядпбге сройи инни силаплни мхивнмаивр новжптйк ни влп# сйеляшгм г влотм нп гпчби пни млебоаи штп новжптйк ни сйпеьновонняо сройпж влктптитвтлонняо йоше легпнт но лядпбеа еь возк е гпчби пни мзобеаивр штп ьижктр #тед йошоу мхо ноарьк пни впзйиаивр в веаиже е сйевпобенелыевр '"
            ],
            "application/vnd.google.colaboratory.intrinsic+json": {
              "type": "string"
            }
          },
          "metadata": {},
          "execution_count": 58
        }
      ]
    },
    {
      "cell_type": "code",
      "source": [
        "char_accuracy(test_text, decoded_test_text)"
      ],
      "metadata": {
        "colab": {
          "base_uri": "https://localhost:8080/"
        },
        "id": "U5ZEk6ktejxf",
        "outputId": "1ec182e3-b3d2-411b-ad63-c04dd3715362"
      },
      "execution_count": 59,
      "outputs": [
        {
          "output_type": "execute_result",
          "data": {
            "text/plain": [
              "0.258"
            ]
          },
          "metadata": {},
          "execution_count": 59
        }
      ]
    },
    {
      "cell_type": "markdown",
      "source": [
        "### Задание 3"
      ],
      "metadata": {
        "id": "Mw4PRbnEzU5k"
      }
    },
    {
      "cell_type": "code",
      "source": [
        "def text_log_proba(text, mapping, freqs, n_gram=2, alphabet=\"абвгдеёжзийклмнопрстуфхцчшщъыьэюя \"):\n",
        "    decoded_text = apply_mapping(text, mapping)\n",
        "    log_proba = 0\n",
        "    for i in range(len(decoded_text) - n_gram):\n",
        "        ngram = decoded_text[i : i + n_gram]\n",
        "        ngram_proba = freqs.get(ngram, 1 / len(text))  # заменяем нули на 1 / len(text)\n",
        "        log_proba += np.log(ngram_proba)\n",
        "    return log_proba"
      ],
      "metadata": {
        "id": "N_1nyQKMueot"
      },
      "execution_count": 60,
      "outputs": []
    },
    {
      "cell_type": "code",
      "source": [
        "def create_decode_mapping_mcmc(\n",
        "    encoded_text,\n",
        "    alphabet_encoded,\n",
        "    alphabet_corpus,\n",
        "    corpus_freqs,\n",
        "    n_iters=10000,\n",
        "    n_trials=10,\n",
        "    n_gram=2,\n",
        "):\n",
        "    \n",
        "    best_decode_mapping = None\n",
        "    best_log_likelihood = -np.inf\n",
        "\n",
        "    for trial in range(n_trials):\n",
        "        alphabet_encoded = list(alphabet_encoded)\n",
        "        alphabet_trial = list(alphabet_corpus)\n",
        "        decode_mapping = dict(zip(alphabet_encoded, alphabet_trial))\n",
        "        \n",
        "        log_proba_current = text_log_proba(\n",
        "            encoded_text, decode_mapping, corpus_freqs, n_gram=n_gram\n",
        "        )\n",
        "\n",
        "        for i in range(n_iters):\n",
        "            alphabet_iter = alphabet_trial.copy()\n",
        "            \n",
        "            idx1, idx2 = random.sample(range(len(alphabet_iter)), 2)\n",
        "            alphabet_iter[idx1], alphabet_iter[idx2] = alphabet_iter[idx2], alphabet_iter[idx1]\n",
        "            \n",
        "            decode_mapping_iter = dict(zip(alphabet_encoded, alphabet_iter))\n",
        "            \n",
        "            log_proba_iter = text_log_proba(\n",
        "                encoded_text, decode_mapping_iter, corpus_freqs, n_gram=n_gram\n",
        "            )\n",
        "\n",
        "            p_accept = np.exp(log_proba_iter - log_proba_current)\n",
        "\n",
        "            if p_accept > random.uniform(0,1):\n",
        "                alphabet_trial = alphabet_iter\n",
        "                log_proba_current = log_proba_iter\n",
        "                decode_mapping = decode_mapping_iter\n",
        "\n",
        "        if log_proba_current > best_log_likelihood:\n",
        "            best_log_likelihood = log_proba_current\n",
        "            best_decode_mapping = decode_mapping\n",
        "\n",
        "\n",
        "    print(f\"Best likelihood: {best_log_likelihood}\")\n",
        "    return best_decode_mapping"
      ],
      "metadata": {
        "id": "lFLySSiezlZ0"
      },
      "execution_count": 61,
      "outputs": []
    },
    {
      "cell_type": "code",
      "source": [
        "corpus_freqs = frequency_count(text, n_gram=2)\n",
        "\n",
        "decode_mapping_mcmc = create_decode_mapping_mcmc(\n",
        "    encoded_test_text,\n",
        "    alphabet_encoded=\"абвгдеёжзийклмнопрстуфхцчшщъыьэюя \",\n",
        "    alphabet_corpus=\"абвгдеёжзийклмнопрстуфхцчшщъыьэюя \",\n",
        "    corpus_freqs=corpus_freqs,\n",
        ")\n",
        "\n",
        "decoded_text = apply_mapping(encoded_test_text, decode_mapping_mcmc)\n",
        "decoded_text"
      ],
      "metadata": {
        "id": "fBvfvtnb15S1",
        "colab": {
          "base_uri": "https://localhost:8080/",
          "height": 158
        },
        "outputId": "5fdcbc1a-f23a-4682-976c-6636c4e4b455"
      },
      "execution_count": 62,
      "outputs": [
        {
          "output_type": "stream",
          "name": "stderr",
          "text": [
            "/usr/local/lib/python3.7/dist-packages/ipykernel_launcher.py:35: RuntimeWarning: overflow encountered in exp\n"
          ]
        },
        {
          "output_type": "stream",
          "name": "stdout",
          "text": [
            "Best likelihood: -11018.149376581614\n"
          ]
        },
        {
          "output_type": "execute_result",
          "data": {
            "text/plain": [
              "'е мог остановиться перед жизнью одного человека не хотите ли перейти к тому столу сказала анна павловнано пьер не отвечая продолжал свою речь нет говорил он все более и более одушевляясь наполеон велик потому что он стал выше революфии подавил ее злоупотребления удержав всё хорошее и равенство граждан и свободу слова и печати и только потому приобрел власть да ежели бы он взяв власть не пользуясь ею для убийства отдал бы ее законному королю сказал виконт тогда бы я назвал его великим человеком он бы не мог этого сделать народ отдал ему власть только затем чтоб он избавил его от бурбонов и потому что народ видел в нем великого человека революфия была великое дело продолжал мсье пьер выказывая этим отчаянным и вызывающим вводным предложением свою великую молодость и желание всё полнее высказать революфия и фареубийство великое делопосле этого да не хотите ли перейти к тому столу повторила анна павловна общественный договор с кроткой улыбкой сказал виконт я не говорю про фареубийство я говорю про идеи да идеи грабежа убийства и фареубийства опять перебил иронический голос это были крайности разумеется но не в них всё значение а значение в правах человека в эманфипафии от предрассудков в равенстве граждан и все эти идеи наполеон удержал во всей их силе свобода и равенство презрительно сказал виконт как будто решившийся наконеф серьезно доказать этому юноше всю глупость его речей всё громкие слова которые уже давно компрометировались кто же не любит свободы и равенства еще спаситель наш проповедывал свободу и равенство разве после революфии люди стали счастливее напротив ы хотели свободы а бонапарте уничтожил еекнязь андрей с улыбкой посматривал то на пьера то на виконта то на хозяйку в первую минуту выходки пьера анна павловна ужаснулась несмотря на свою привычку к свету но когда она увидела что несмотря на произнесенные пьером святотатственные речи виконт не выходил из себя и когда она убедилась что замять этих речей уже нельзя она собралась с силами и присоединившись '"
            ],
            "application/vnd.google.colaboratory.intrinsic+json": {
              "type": "string"
            }
          },
          "metadata": {},
          "execution_count": 62
        }
      ]
    },
    {
      "cell_type": "code",
      "source": [
        "char_accuracy(test_text, decoded_text)"
      ],
      "metadata": {
        "id": "hPQmBoJ81-20",
        "colab": {
          "base_uri": "https://localhost:8080/"
        },
        "outputId": "38c2be79-674d-4fce-de17-0a721c234e77"
      },
      "execution_count": 63,
      "outputs": [
        {
          "output_type": "execute_result",
          "data": {
            "text/plain": [
              "0.995"
            ]
          },
          "metadata": {},
          "execution_count": 63
        }
      ]
    },
    {
      "cell_type": "markdown",
      "source": [
        "### Задание 4"
      ],
      "metadata": {
        "id": "tT0ThihQ2AeR"
      }
    },
    {
      "cell_type": "code",
      "source": [
        "message = \"←⇠⇒↟↹↷⇊↹↷↟↤↟↨←↹↝⇛⇯↳⇴⇒⇈↝⇊↾↹↟⇒↟↹⇷⇛⇞↨↟↹↝⇛⇯↳⇴⇒⇈↝⇊↾↹↨←⇌⇠↨↹⇙↹⇸↨⇛↙⇛↹⇠⇛⇛↲⇆←↝↟↞↹⇌⇛↨⇛⇯⇊↾↹⇒←↙⇌⇛↹⇷⇯⇛⇞↟↨⇴↨⇈↹⇠⇌⇛⇯←←↹↷⇠←↙⇛↹↷⇊↹↷⇠←↹⇠↤←⇒⇴⇒↟↹⇷⇯⇴↷↟⇒⇈↝⇛↹↟↹⇷⇛⇒⇙⇞↟↨←↹↳⇴⇌⇠↟↳⇴⇒⇈↝⇊↾↹↲⇴⇒⇒↹⇰⇴↹⇷⇛⇠⇒←↤↝←←↹⇞←↨↷←⇯↨⇛←↹⇰⇴↤⇴↝↟←↹⇌⇙⇯⇠⇴↹↘⇛↨↞↹⇌⇛↝←⇞↝⇛↹↞↹↝↟⇞←↙⇛↹↝←↹⇛↲←⇆⇴⇏\""
      ],
      "metadata": {
        "id": "pzAwFT5B2Ch1"
      },
      "execution_count": 64,
      "outputs": []
    },
    {
      "cell_type": "code",
      "source": [
        "alphabet_message = ''.join(frequency_count(message, 1).keys())\n",
        "alphabet_corpus = ''.join(frequency_count(text, 1).keys())"
      ],
      "metadata": {
        "id": "zaAPuC-X2NZ8"
      },
      "execution_count": 68,
      "outputs": []
    },
    {
      "cell_type": "code",
      "source": [
        "decode_mapping_mcmc = create_decode_mapping_mcmc(\n",
        "    message,\n",
        "    alphabet_encoded=alphabet_message,\n",
        "    alphabet_corpus=alphabet_corpus,\n",
        "    corpus_freqs=corpus_freqs,\n",
        "    n_iters=10000,\n",
        "    n_trials=100\n",
        ")\n",
        "\n",
        "decoded_text = apply_mapping(message, decode_mapping_mcmc)\n",
        "decoded_text"
      ],
      "metadata": {
        "id": "8H0wjYiF2ahI",
        "colab": {
          "base_uri": "https://localhost:8080/",
          "height": 70
        },
        "outputId": "1194d4fe-2f6a-448c-b7f0-167339f50f52"
      },
      "execution_count": 72,
      "outputs": [
        {
          "output_type": "stream",
          "name": "stdout",
          "text": [
            "Best likelihood: -1212.751791648646\n"
          ]
        },
        {
          "output_type": "execute_result",
          "data": {
            "text/plain": [
              "'если вй виёите ноъзальнйы или подти ноъзальнйы терст у этого соомжения ротоъйы легро пъодитать сроъее всего вй все сёелали пъавильно и полудите зарсизальнйы малл ка послеёнее детвеътое каёание руъса ботя ронедно я нидего не омежаю'"
            ],
            "application/vnd.google.colaboratory.intrinsic+json": {
              "type": "string"
            }
          },
          "metadata": {},
          "execution_count": 72
        }
      ]
    },
    {
      "cell_type": "markdown",
      "source": [
        "Если вы видите нормальныц или почти нормальный текст у этого сообщения который легко прочитать скорее всего вы все сделали правильно и получите максимальный балл за последнее четвертое задание курса хотя конечно я ничего не обещаю"
      ],
      "metadata": {
        "id": "zO6WmHNJLjnX"
      }
    },
    {
      "cell_type": "code",
      "source": [
        ""
      ],
      "metadata": {
        "id": "piFu4ySS-VfA"
      },
      "execution_count": null,
      "outputs": []
    }
  ]
}
