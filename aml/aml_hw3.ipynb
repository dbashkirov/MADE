{
  "nbformat": 4,
  "nbformat_minor": 0,
  "metadata": {
    "colab": {
      "name": "aml_hw3.ipynb",
      "provenance": []
    },
    "kernelspec": {
      "name": "python3",
      "display_name": "Python 3"
    },
    "language_info": {
      "name": "python"
    }
  },
  "cells": [
    {
      "cell_type": "code",
      "execution_count": null,
      "metadata": {
        "id": "Kno3V-uZ16dz"
      },
      "outputs": [],
      "source": [
        "from google.colab import drive\n",
        "import pandas as pd\n",
        "import zipfile\n",
        "import string\n",
        "from collections import Counter"
      ]
    },
    {
      "cell_type": "code",
      "source": [
        "drive.mount('/content/drive')"
      ],
      "metadata": {
        "colab": {
          "base_uri": "https://localhost:8080/"
        },
        "id": "DGUQ_TRe2pyD",
        "outputId": "46903d65-b927-4817-af7a-8baa8b3b3f98"
      },
      "execution_count": null,
      "outputs": [
        {
          "output_type": "stream",
          "name": "stdout",
          "text": [
            "Mounted at /content/drive\n"
          ]
        }
      ]
    },
    {
      "cell_type": "code",
      "source": [
        "with zipfile.ZipFile(\"/content/drive/My Drive/MADE/corpora.zip\", \"r\") as zip_ref:\n",
        "  zip_ref.extractall()"
      ],
      "metadata": {
        "id": "m2eD8N8b2sxA"
      },
      "execution_count": null,
      "outputs": []
    },
    {
      "cell_type": "code",
      "source": [
        "with open('WarAndPeaceEng.txt', 'r') as f:\n",
        "  text = f.readlines()"
      ],
      "metadata": {
        "id": "Op5fC3sf2_D-"
      },
      "execution_count": null,
      "outputs": []
    },
    {
      "cell_type": "code",
      "source": [
        "text = [line.translate(str.maketrans('', '', string.punctuation)).lower() for line in text]"
      ],
      "metadata": {
        "id": "MugvgkYV3Nif"
      },
      "execution_count": null,
      "outputs": []
    },
    {
      "cell_type": "code",
      "source": [
        "c = Counter(c for line in text for c in line)"
      ],
      "metadata": {
        "id": "U7GuMM3x3OlQ"
      },
      "execution_count": null,
      "outputs": []
    },
    {
      "cell_type": "code",
      "source": [
        "sorted(c.items(), key=lambda x: -x[1])"
      ],
      "metadata": {
        "colab": {
          "base_uri": "https://localhost:8080/"
        },
        "id": "_BaFejQO6ItT",
        "outputId": "69c0d30c-17f7-4458-83a0-a8e70923eae9"
      },
      "execution_count": null,
      "outputs": [
        {
          "output_type": "execute_result",
          "data": {
            "text/plain": [
              "[(' ', 514908),\n",
              " ('e', 315233),\n",
              " ('t', 226406),\n",
              " ('a', 205806),\n",
              " ('o', 192879),\n",
              " ('n', 184173),\n",
              " ('i', 174281),\n",
              " ('h', 167404),\n",
              " ('s', 162891),\n",
              " ('r', 148428),\n",
              " ('d', 118290),\n",
              " ('l', 96527),\n",
              " ('u', 65434),\n",
              " ('\\n', 65007),\n",
              " ('m', 61646),\n",
              " ('c', 61623),\n",
              " ('w', 59207),\n",
              " ('f', 54896),\n",
              " ('g', 51326),\n",
              " ('y', 46265),\n",
              " ('p', 45533),\n",
              " ('b', 34658),\n",
              " ('v', 27086),\n",
              " ('k', 20431),\n",
              " ('x', 4384),\n",
              " ('j', 2574),\n",
              " ('z', 2388),\n",
              " ('q', 2330),\n",
              " ('1', 392),\n",
              " ('8', 193),\n",
              " ('0', 179),\n",
              " ('2', 147),\n",
              " ('3', 61),\n",
              " ('6', 57),\n",
              " ('5', 55),\n",
              " ('7', 40),\n",
              " ('9', 35),\n",
              " ('4', 23),\n",
              " ('ê', 11),\n",
              " ('à', 4),\n",
              " ('\\ufeff', 1),\n",
              " ('é', 1),\n",
              " ('ä', 1)]"
            ]
          },
          "metadata": {},
          "execution_count": 36
        }
      ]
    },
    {
      "cell_type": "code",
      "source": [
        ""
      ],
      "metadata": {
        "id": "CM5CVpcs7nhI"
      },
      "execution_count": null,
      "outputs": []
    }
  ]
}