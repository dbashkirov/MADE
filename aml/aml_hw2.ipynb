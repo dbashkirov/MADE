{
  "nbformat": 4,
  "nbformat_minor": 0,
  "metadata": {
    "colab": {
      "name": "aml_hw2.ipynb",
      "provenance": []
    },
    "kernelspec": {
      "name": "python3",
      "display_name": "Python 3"
    },
    "language_info": {
      "name": "python"
    }
  },
  "cells": [
    {
      "cell_type": "code",
      "execution_count": null,
      "metadata": {
        "id": "wo0HTd6JrzI-"
      },
      "outputs": [],
      "source": [
        "from google.colab import drive\n",
        "import pandas as pd\n",
        "import zipfile\n",
        "import pickle"
      ]
    },
    {
      "cell_type": "code",
      "source": [
        "drive.mount('/content/drive')"
      ],
      "metadata": {
        "id": "JNCrMOX1xRSK",
        "colab": {
          "base_uri": "https://localhost:8080/"
        },
        "outputId": "7b43d75b-59d2-4e5c-c6d7-2066ddc9a09a"
      },
      "execution_count": null,
      "outputs": [
        {
          "output_type": "stream",
          "name": "stdout",
          "text": [
            "Mounted at /content/drive\n"
          ]
        }
      ]
    },
    {
      "cell_type": "code",
      "source": [
        "with zipfile.ZipFile(\"/content/drive/My Drive/MADE/chgk.zip\", \"r\") as zip_ref:\n",
        "    zip_ref.extractall()"
      ],
      "metadata": {
        "id": "S2B7IPi2sc-v"
      },
      "execution_count": null,
      "outputs": []
    },
    {
      "cell_type": "code",
      "source": [
        "with open('players.pkl', 'rb') as f:\n",
        "    players = pickle.load(f)\n",
        "with open('results.pkl', 'rb') as f:\n",
        "    results = pickle.load(f)\n",
        "with open('tournaments.pkl', 'rb') as f:\n",
        "    tournaments = pickle.load(f)"
      ],
      "metadata": {
        "id": "M4_pmOtAuCOp"
      },
      "execution_count": null,
      "outputs": []
    },
    {
      "cell_type": "code",
      "source": [
        "with open('players.pkl', 'rb') as f:\n",
        "    players = pickle.load(f)"
      ],
      "metadata": {
        "id": "oRkzfF13xFzl"
      },
      "execution_count": null,
      "outputs": []
    },
    {
      "cell_type": "code",
      "source": [
        "pd.json_normalize(results)"
      ],
      "metadata": {
        "colab": {
          "base_uri": "https://localhost:8080/",
          "height": 278
        },
        "id": "LOWM17-o9Xlw",
        "outputId": "2c4bc085-24e1-4d3b-8625-2a28d6c107b6"
      },
      "execution_count": null,
      "outputs": [
        {
          "output_type": "execute_result",
          "data": {
            "text/plain": [
              "                                                1     \\\n",
              "0  [{'team': {'id': 242, 'name': 'Команда Азимова...   \n",
              "\n",
              "                                                2     \\\n",
              "0  [{'team': {'id': 312, 'name': 'Социал-демократ...   \n",
              "\n",
              "                                                3     \\\n",
              "0  [{'team': {'id': 175, 'name': 'Транссфера', 't...   \n",
              "\n",
              "                                                4     \\\n",
              "0  [{'team': {'id': 2205, 'name': 'ХИИТ - 2000', ...   \n",
              "\n",
              "                                                5     \\\n",
              "0  [{'team': {'id': 1733, 'name': 'Суббота 13', '...   \n",
              "\n",
              "                                                6     \\\n",
              "0  [{'team': {'id': 10404, 'name': 'Им. Лошади Пр...   \n",
              "\n",
              "                                                7     \\\n",
              "0  [{'team': {'id': 441, 'name': 'Перамога', 'tow...   \n",
              "\n",
              "                                                8     \\\n",
              "0  [{'team': {'id': 2, 'name': 'Афина', 'town': {...   \n",
              "\n",
              "                                                9     \\\n",
              "0  [{'team': {'id': 26, 'name': 'ЛКИ', 'town': {'...   \n",
              "\n",
              "                                                10    ... 6476 6477 6478 6479  \\\n",
              "0  [{'team': {'id': 5, 'name': 'Команда Кузьмина'...  ...   []   []   []   []   \n",
              "\n",
              "  6480 6481 6482 6483 6484 6485  \n",
              "0   []   []   []   []   []   []  \n",
              "\n",
              "[1 rows x 5528 columns]"
            ],
            "text/html": [
              "\n",
              "  <div id=\"df-426059e7-c92a-4e13-9a0d-1fefdf781b8e\">\n",
              "    <div class=\"colab-df-container\">\n",
              "      <div>\n",
              "<style scoped>\n",
              "    .dataframe tbody tr th:only-of-type {\n",
              "        vertical-align: middle;\n",
              "    }\n",
              "\n",
              "    .dataframe tbody tr th {\n",
              "        vertical-align: top;\n",
              "    }\n",
              "\n",
              "    .dataframe thead th {\n",
              "        text-align: right;\n",
              "    }\n",
              "</style>\n",
              "<table border=\"1\" class=\"dataframe\">\n",
              "  <thead>\n",
              "    <tr style=\"text-align: right;\">\n",
              "      <th></th>\n",
              "      <th>1</th>\n",
              "      <th>2</th>\n",
              "      <th>3</th>\n",
              "      <th>4</th>\n",
              "      <th>5</th>\n",
              "      <th>6</th>\n",
              "      <th>7</th>\n",
              "      <th>8</th>\n",
              "      <th>9</th>\n",
              "      <th>10</th>\n",
              "      <th>...</th>\n",
              "      <th>6476</th>\n",
              "      <th>6477</th>\n",
              "      <th>6478</th>\n",
              "      <th>6479</th>\n",
              "      <th>6480</th>\n",
              "      <th>6481</th>\n",
              "      <th>6482</th>\n",
              "      <th>6483</th>\n",
              "      <th>6484</th>\n",
              "      <th>6485</th>\n",
              "    </tr>\n",
              "  </thead>\n",
              "  <tbody>\n",
              "    <tr>\n",
              "      <th>0</th>\n",
              "      <td>[{'team': {'id': 242, 'name': 'Команда Азимова...</td>\n",
              "      <td>[{'team': {'id': 312, 'name': 'Социал-демократ...</td>\n",
              "      <td>[{'team': {'id': 175, 'name': 'Транссфера', 't...</td>\n",
              "      <td>[{'team': {'id': 2205, 'name': 'ХИИТ - 2000', ...</td>\n",
              "      <td>[{'team': {'id': 1733, 'name': 'Суббота 13', '...</td>\n",
              "      <td>[{'team': {'id': 10404, 'name': 'Им. Лошади Пр...</td>\n",
              "      <td>[{'team': {'id': 441, 'name': 'Перамога', 'tow...</td>\n",
              "      <td>[{'team': {'id': 2, 'name': 'Афина', 'town': {...</td>\n",
              "      <td>[{'team': {'id': 26, 'name': 'ЛКИ', 'town': {'...</td>\n",
              "      <td>[{'team': {'id': 5, 'name': 'Команда Кузьмина'...</td>\n",
              "      <td>...</td>\n",
              "      <td>[]</td>\n",
              "      <td>[]</td>\n",
              "      <td>[]</td>\n",
              "      <td>[]</td>\n",
              "      <td>[]</td>\n",
              "      <td>[]</td>\n",
              "      <td>[]</td>\n",
              "      <td>[]</td>\n",
              "      <td>[]</td>\n",
              "      <td>[]</td>\n",
              "    </tr>\n",
              "  </tbody>\n",
              "</table>\n",
              "<p>1 rows × 5528 columns</p>\n",
              "</div>\n",
              "      <button class=\"colab-df-convert\" onclick=\"convertToInteractive('df-426059e7-c92a-4e13-9a0d-1fefdf781b8e')\"\n",
              "              title=\"Convert this dataframe to an interactive table.\"\n",
              "              style=\"display:none;\">\n",
              "        \n",
              "  <svg xmlns=\"http://www.w3.org/2000/svg\" height=\"24px\"viewBox=\"0 0 24 24\"\n",
              "       width=\"24px\">\n",
              "    <path d=\"M0 0h24v24H0V0z\" fill=\"none\"/>\n",
              "    <path d=\"M18.56 5.44l.94 2.06.94-2.06 2.06-.94-2.06-.94-.94-2.06-.94 2.06-2.06.94zm-11 1L8.5 8.5l.94-2.06 2.06-.94-2.06-.94L8.5 2.5l-.94 2.06-2.06.94zm10 10l.94 2.06.94-2.06 2.06-.94-2.06-.94-.94-2.06-.94 2.06-2.06.94z\"/><path d=\"M17.41 7.96l-1.37-1.37c-.4-.4-.92-.59-1.43-.59-.52 0-1.04.2-1.43.59L10.3 9.45l-7.72 7.72c-.78.78-.78 2.05 0 2.83L4 21.41c.39.39.9.59 1.41.59.51 0 1.02-.2 1.41-.59l7.78-7.78 2.81-2.81c.8-.78.8-2.07 0-2.86zM5.41 20L4 18.59l7.72-7.72 1.47 1.35L5.41 20z\"/>\n",
              "  </svg>\n",
              "      </button>\n",
              "      \n",
              "  <style>\n",
              "    .colab-df-container {\n",
              "      display:flex;\n",
              "      flex-wrap:wrap;\n",
              "      gap: 12px;\n",
              "    }\n",
              "\n",
              "    .colab-df-convert {\n",
              "      background-color: #E8F0FE;\n",
              "      border: none;\n",
              "      border-radius: 50%;\n",
              "      cursor: pointer;\n",
              "      display: none;\n",
              "      fill: #1967D2;\n",
              "      height: 32px;\n",
              "      padding: 0 0 0 0;\n",
              "      width: 32px;\n",
              "    }\n",
              "\n",
              "    .colab-df-convert:hover {\n",
              "      background-color: #E2EBFA;\n",
              "      box-shadow: 0px 1px 2px rgba(60, 64, 67, 0.3), 0px 1px 3px 1px rgba(60, 64, 67, 0.15);\n",
              "      fill: #174EA6;\n",
              "    }\n",
              "\n",
              "    [theme=dark] .colab-df-convert {\n",
              "      background-color: #3B4455;\n",
              "      fill: #D2E3FC;\n",
              "    }\n",
              "\n",
              "    [theme=dark] .colab-df-convert:hover {\n",
              "      background-color: #434B5C;\n",
              "      box-shadow: 0px 1px 3px 1px rgba(0, 0, 0, 0.15);\n",
              "      filter: drop-shadow(0px 1px 2px rgba(0, 0, 0, 0.3));\n",
              "      fill: #FFFFFF;\n",
              "    }\n",
              "  </style>\n",
              "\n",
              "      <script>\n",
              "        const buttonEl =\n",
              "          document.querySelector('#df-426059e7-c92a-4e13-9a0d-1fefdf781b8e button.colab-df-convert');\n",
              "        buttonEl.style.display =\n",
              "          google.colab.kernel.accessAllowed ? 'block' : 'none';\n",
              "\n",
              "        async function convertToInteractive(key) {\n",
              "          const element = document.querySelector('#df-426059e7-c92a-4e13-9a0d-1fefdf781b8e');\n",
              "          const dataTable =\n",
              "            await google.colab.kernel.invokeFunction('convertToInteractive',\n",
              "                                                     [key], {});\n",
              "          if (!dataTable) return;\n",
              "\n",
              "          const docLinkHtml = 'Like what you see? Visit the ' +\n",
              "            '<a target=\"_blank\" href=https://colab.research.google.com/notebooks/data_table.ipynb>data table notebook</a>'\n",
              "            + ' to learn more about interactive tables.';\n",
              "          element.innerHTML = '';\n",
              "          dataTable['output_type'] = 'display_data';\n",
              "          await google.colab.output.renderOutput(dataTable, element);\n",
              "          const docLink = document.createElement('div');\n",
              "          docLink.innerHTML = docLinkHtml;\n",
              "          element.appendChild(docLink);\n",
              "        }\n",
              "      </script>\n",
              "    </div>\n",
              "  </div>\n",
              "  "
            ]
          },
          "metadata": {},
          "execution_count": 48
        }
      ]
    },
    {
      "cell_type": "code",
      "source": [
        ""
      ],
      "metadata": {
        "id": "MsRIq00o7MUh"
      },
      "execution_count": null,
      "outputs": []
    }
  ]
}
